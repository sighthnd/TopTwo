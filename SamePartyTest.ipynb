{
 "cells": [
  {
   "cell_type": "markdown",
   "metadata": {},
   "source": [
    "Test the effects of having two candidates of the same party in the general election"
   ]
  },
  {
   "cell_type": "code",
   "execution_count": 1,
   "metadata": {
    "collapsed": false
   },
   "outputs": [
    {
     "name": "stdout",
     "output_type": "stream",
     "text": [
      "Populating the interactive namespace from numpy and matplotlib\n"
     ]
    }
   ],
   "source": [
    "import numpy as np\n",
    "import pandas as pd\n",
    "import matplotlib.pyplot as plt\n",
    "%pylab inline"
   ]
  },
  {
   "cell_type": "code",
   "execution_count": 2,
   "metadata": {
    "collapsed": true
   },
   "outputs": [],
   "source": [
    "dcols = \"Year,Office,District,Party,Cand1,Cand2,General1,General2,Primary1,Primary2,DIME1,DIME2\".split(',')"
   ]
  },
  {
   "cell_type": "code",
   "execution_count": 3,
   "metadata": {
    "collapsed": false
   },
   "outputs": [
    {
     "data": {
      "text/html": [
       "<div>\n",
       "<table border=\"1\" class=\"dataframe\">\n",
       "  <thead>\n",
       "    <tr style=\"text-align: right;\">\n",
       "      <th></th>\n",
       "      <th>Year</th>\n",
       "      <th>Office</th>\n",
       "      <th>District</th>\n",
       "      <th>Party</th>\n",
       "      <th>Cand1</th>\n",
       "      <th>Cand2</th>\n",
       "      <th>General1</th>\n",
       "      <th>General2</th>\n",
       "      <th>Primary1</th>\n",
       "      <th>Primary2</th>\n",
       "      <th>DIME1</th>\n",
       "      <th>DIME2</th>\n",
       "    </tr>\n",
       "  </thead>\n",
       "  <tbody>\n",
       "    <tr>\n",
       "      <th>0</th>\n",
       "      <td>2012</td>\n",
       "      <td>Assembly</td>\n",
       "      <td>1</td>\n",
       "      <td>REP</td>\n",
       "      <td>Brian Dahle</td>\n",
       "      <td>Rick Bosetti</td>\n",
       "      <td>116098</td>\n",
       "      <td>60920</td>\n",
       "      <td>41384</td>\n",
       "      <td>34457</td>\n",
       "      <td>0.30</td>\n",
       "      <td>0.57</td>\n",
       "    </tr>\n",
       "    <tr>\n",
       "      <th>1</th>\n",
       "      <td>2012</td>\n",
       "      <td>Assembly</td>\n",
       "      <td>5</td>\n",
       "      <td>REP</td>\n",
       "      <td>Frank Bigelow</td>\n",
       "      <td>Rico Oller</td>\n",
       "      <td>82293</td>\n",
       "      <td>75071</td>\n",
       "      <td>29584</td>\n",
       "      <td>34673</td>\n",
       "      <td>0.39</td>\n",
       "      <td>0.55</td>\n",
       "    </tr>\n",
       "    <tr>\n",
       "      <th>2</th>\n",
       "      <td>2012</td>\n",
       "      <td>Assembly</td>\n",
       "      <td>6</td>\n",
       "      <td>REP</td>\n",
       "      <td>Beth B Gaines</td>\n",
       "      <td>Andy Pugno</td>\n",
       "      <td>128465</td>\n",
       "      <td>57084</td>\n",
       "      <td>38827</td>\n",
       "      <td>33382</td>\n",
       "      <td>0.33</td>\n",
       "      <td>1.58</td>\n",
       "    </tr>\n",
       "    <tr>\n",
       "      <th>3</th>\n",
       "      <td>2012</td>\n",
       "      <td>Assembly</td>\n",
       "      <td>10</td>\n",
       "      <td>DEM</td>\n",
       "      <td>Michael Allen</td>\n",
       "      <td>Marc Levine</td>\n",
       "      <td>91973</td>\n",
       "      <td>96421</td>\n",
       "      <td>32922</td>\n",
       "      <td>25920</td>\n",
       "      <td>-1.04</td>\n",
       "      <td>-0.50</td>\n",
       "    </tr>\n",
       "    <tr>\n",
       "      <th>4</th>\n",
       "      <td>2012</td>\n",
       "      <td>Assembly</td>\n",
       "      <td>18</td>\n",
       "      <td>DEM</td>\n",
       "      <td>Rob Bonta</td>\n",
       "      <td>Abel Guillen</td>\n",
       "      <td>75865</td>\n",
       "      <td>74422</td>\n",
       "      <td>23007</td>\n",
       "      <td>18521</td>\n",
       "      <td>-0.93</td>\n",
       "      <td>-1.20</td>\n",
       "    </tr>\n",
       "  </tbody>\n",
       "</table>\n",
       "</div>"
      ],
      "text/plain": [
       "   Year    Office  District Party          Cand1         Cand2  General1  \\\n",
       "0  2012  Assembly         1   REP    Brian Dahle  Rick Bosetti    116098   \n",
       "1  2012  Assembly         5   REP  Frank Bigelow    Rico Oller     82293   \n",
       "2  2012  Assembly         6   REP  Beth B Gaines    Andy Pugno    128465   \n",
       "3  2012  Assembly        10   DEM  Michael Allen   Marc Levine     91973   \n",
       "4  2012  Assembly        18   DEM      Rob Bonta  Abel Guillen     75865   \n",
       "\n",
       "   General2  Primary1  Primary2  DIME1  DIME2  \n",
       "0     60920     41384     34457   0.30   0.57  \n",
       "1     75071     29584     34673   0.39   0.55  \n",
       "2     57084     38827     33382   0.33   1.58  \n",
       "3     96421     32922     25920  -1.04  -0.50  \n",
       "4     74422     23007     18521  -0.93  -1.20  "
      ]
     },
     "execution_count": 3,
     "metadata": {},
     "output_type": "execute_result"
    }
   ],
   "source": [
    "vote = pd.read_csv(\"dataset.csv\", sep=';', names=dcols)\n",
    "vote.head(5)"
   ]
  },
  {
   "cell_type": "markdown",
   "metadata": {},
   "source": [
    "Show the minimum and maximum DIME scores for both parties"
   ]
  },
  {
   "cell_type": "code",
   "execution_count": 6,
   "metadata": {
    "collapsed": false
   },
   "outputs": [
    {
     "name": "stdout",
     "output_type": "stream",
     "text": [
      "The lowest Republican score is 0.3\n",
      "The highest Democratic score is -0.51\n",
      "The lowest Republican score is 0.09\n",
      "The highest Democratic score is -0.5\n"
     ]
    }
   ],
   "source": [
    "for cl in 'DIME1', 'DIME2':\n",
    "    print(\"The lowest Republican score is {}\".format(vote.loc[vote.Party == 'REP'][cl].min()))\n",
    "    print(\"The highest Democratic score is {}\".format(vote.loc[vote.Party == 'DEM'][cl].max()))"
   ]
  },
  {
   "cell_type": "markdown",
   "metadata": {},
   "source": [
    "Calculate share of the two-candidate vote in both elections, the change between the elections and the difference in DIME scores"
   ]
  },
  {
   "cell_type": "code",
   "execution_count": 7,
   "metadata": {
    "collapsed": false
   },
   "outputs": [
    {
     "data": {
      "text/html": [
       "<div>\n",
       "<table border=\"1\" class=\"dataframe\">\n",
       "  <thead>\n",
       "    <tr style=\"text-align: right;\">\n",
       "      <th></th>\n",
       "      <th>Year</th>\n",
       "      <th>Office</th>\n",
       "      <th>District</th>\n",
       "      <th>Party</th>\n",
       "      <th>Cand1</th>\n",
       "      <th>Cand2</th>\n",
       "      <th>General1</th>\n",
       "      <th>General2</th>\n",
       "      <th>Primary1</th>\n",
       "      <th>Primary2</th>\n",
       "      <th>DIME1</th>\n",
       "      <th>DIME2</th>\n",
       "      <th>GenShare</th>\n",
       "      <th>PriShare</th>\n",
       "      <th>VoteChange</th>\n",
       "      <th>DIMEChange</th>\n",
       "    </tr>\n",
       "  </thead>\n",
       "  <tbody>\n",
       "    <tr>\n",
       "      <th>0</th>\n",
       "      <td>2012</td>\n",
       "      <td>Assembly</td>\n",
       "      <td>1</td>\n",
       "      <td>REP</td>\n",
       "      <td>Brian Dahle</td>\n",
       "      <td>Rick Bosetti</td>\n",
       "      <td>116098</td>\n",
       "      <td>60920</td>\n",
       "      <td>41384</td>\n",
       "      <td>34457</td>\n",
       "      <td>0.30</td>\n",
       "      <td>0.57</td>\n",
       "      <td>0.655854</td>\n",
       "      <td>0.545668</td>\n",
       "      <td>0.110186</td>\n",
       "      <td>-0.27</td>\n",
       "    </tr>\n",
       "    <tr>\n",
       "      <th>1</th>\n",
       "      <td>2012</td>\n",
       "      <td>Assembly</td>\n",
       "      <td>5</td>\n",
       "      <td>REP</td>\n",
       "      <td>Frank Bigelow</td>\n",
       "      <td>Rico Oller</td>\n",
       "      <td>82293</td>\n",
       "      <td>75071</td>\n",
       "      <td>29584</td>\n",
       "      <td>34673</td>\n",
       "      <td>0.39</td>\n",
       "      <td>0.55</td>\n",
       "      <td>0.522947</td>\n",
       "      <td>0.460401</td>\n",
       "      <td>0.062546</td>\n",
       "      <td>-0.16</td>\n",
       "    </tr>\n",
       "    <tr>\n",
       "      <th>2</th>\n",
       "      <td>2012</td>\n",
       "      <td>Assembly</td>\n",
       "      <td>6</td>\n",
       "      <td>REP</td>\n",
       "      <td>Beth B Gaines</td>\n",
       "      <td>Andy Pugno</td>\n",
       "      <td>128465</td>\n",
       "      <td>57084</td>\n",
       "      <td>38827</td>\n",
       "      <td>33382</td>\n",
       "      <td>0.33</td>\n",
       "      <td>1.58</td>\n",
       "      <td>0.692351</td>\n",
       "      <td>0.537703</td>\n",
       "      <td>0.154648</td>\n",
       "      <td>-1.25</td>\n",
       "    </tr>\n",
       "    <tr>\n",
       "      <th>3</th>\n",
       "      <td>2012</td>\n",
       "      <td>Assembly</td>\n",
       "      <td>10</td>\n",
       "      <td>DEM</td>\n",
       "      <td>Michael Allen</td>\n",
       "      <td>Marc Levine</td>\n",
       "      <td>91973</td>\n",
       "      <td>96421</td>\n",
       "      <td>32922</td>\n",
       "      <td>25920</td>\n",
       "      <td>-1.04</td>\n",
       "      <td>-0.50</td>\n",
       "      <td>0.488195</td>\n",
       "      <td>0.559498</td>\n",
       "      <td>-0.071303</td>\n",
       "      <td>-0.54</td>\n",
       "    </tr>\n",
       "    <tr>\n",
       "      <th>4</th>\n",
       "      <td>2012</td>\n",
       "      <td>Assembly</td>\n",
       "      <td>18</td>\n",
       "      <td>DEM</td>\n",
       "      <td>Rob Bonta</td>\n",
       "      <td>Abel Guillen</td>\n",
       "      <td>75865</td>\n",
       "      <td>74422</td>\n",
       "      <td>23007</td>\n",
       "      <td>18521</td>\n",
       "      <td>-0.93</td>\n",
       "      <td>-1.20</td>\n",
       "      <td>0.504801</td>\n",
       "      <td>0.554012</td>\n",
       "      <td>-0.049211</td>\n",
       "      <td>0.27</td>\n",
       "    </tr>\n",
       "  </tbody>\n",
       "</table>\n",
       "</div>"
      ],
      "text/plain": [
       "   Year    Office  District Party          Cand1         Cand2  General1  \\\n",
       "0  2012  Assembly         1   REP    Brian Dahle  Rick Bosetti    116098   \n",
       "1  2012  Assembly         5   REP  Frank Bigelow    Rico Oller     82293   \n",
       "2  2012  Assembly         6   REP  Beth B Gaines    Andy Pugno    128465   \n",
       "3  2012  Assembly        10   DEM  Michael Allen   Marc Levine     91973   \n",
       "4  2012  Assembly        18   DEM      Rob Bonta  Abel Guillen     75865   \n",
       "\n",
       "   General2  Primary1  Primary2  DIME1  DIME2  GenShare  PriShare  VoteChange  \\\n",
       "0     60920     41384     34457   0.30   0.57  0.655854  0.545668    0.110186   \n",
       "1     75071     29584     34673   0.39   0.55  0.522947  0.460401    0.062546   \n",
       "2     57084     38827     33382   0.33   1.58  0.692351  0.537703    0.154648   \n",
       "3     96421     32922     25920  -1.04  -0.50  0.488195  0.559498   -0.071303   \n",
       "4     74422     23007     18521  -0.93  -1.20  0.504801  0.554012   -0.049211   \n",
       "\n",
       "   DIMEChange  \n",
       "0       -0.27  \n",
       "1       -0.16  \n",
       "2       -1.25  \n",
       "3       -0.54  \n",
       "4        0.27  "
      ]
     },
     "execution_count": 7,
     "metadata": {},
     "output_type": "execute_result"
    }
   ],
   "source": [
    "vote['GenShare'] = vote.General1 / (vote.General1 + vote.General2)\n",
    "vote['PriShare'] = vote.Primary1 / (vote.Primary1 + vote.Primary2)\n",
    "vote['VoteChange'] = vote.GenShare - vote.PriShare\n",
    "vote['DIMEChange'] = vote.DIME1 - vote.DIME2\n",
    "vote.head(5)"
   ]
  },
  {
   "cell_type": "markdown",
   "metadata": {
    "collapsed": false
   },
   "source": [
    "Multiply the DIMEChange column by -1 for Republicans so that the column would reflect the same direction from the middle for both parties"
   ]
  },
  {
   "cell_type": "code",
   "execution_count": 8,
   "metadata": {
    "collapsed": false
   },
   "outputs": [
    {
     "data": {
      "text/html": [
       "<div>\n",
       "<table border=\"1\" class=\"dataframe\">\n",
       "  <thead>\n",
       "    <tr style=\"text-align: right;\">\n",
       "      <th></th>\n",
       "      <th>Party</th>\n",
       "      <th>DIME1</th>\n",
       "      <th>DIME2</th>\n",
       "      <th>DIMEChange</th>\n",
       "    </tr>\n",
       "  </thead>\n",
       "  <tbody>\n",
       "    <tr>\n",
       "      <th>0</th>\n",
       "      <td>REP</td>\n",
       "      <td>0.30</td>\n",
       "      <td>0.57</td>\n",
       "      <td>0.27</td>\n",
       "    </tr>\n",
       "    <tr>\n",
       "      <th>1</th>\n",
       "      <td>REP</td>\n",
       "      <td>0.39</td>\n",
       "      <td>0.55</td>\n",
       "      <td>0.16</td>\n",
       "    </tr>\n",
       "    <tr>\n",
       "      <th>2</th>\n",
       "      <td>REP</td>\n",
       "      <td>0.33</td>\n",
       "      <td>1.58</td>\n",
       "      <td>1.25</td>\n",
       "    </tr>\n",
       "    <tr>\n",
       "      <th>3</th>\n",
       "      <td>DEM</td>\n",
       "      <td>-1.04</td>\n",
       "      <td>-0.50</td>\n",
       "      <td>-0.54</td>\n",
       "    </tr>\n",
       "    <tr>\n",
       "      <th>4</th>\n",
       "      <td>DEM</td>\n",
       "      <td>-0.93</td>\n",
       "      <td>-1.20</td>\n",
       "      <td>0.27</td>\n",
       "    </tr>\n",
       "  </tbody>\n",
       "</table>\n",
       "</div>"
      ],
      "text/plain": [
       "  Party  DIME1  DIME2  DIMEChange\n",
       "0   REP   0.30   0.57        0.27\n",
       "1   REP   0.39   0.55        0.16\n",
       "2   REP   0.33   1.58        1.25\n",
       "3   DEM  -1.04  -0.50       -0.54\n",
       "4   DEM  -0.93  -1.20        0.27"
      ]
     },
     "execution_count": 8,
     "metadata": {},
     "output_type": "execute_result"
    }
   ],
   "source": [
    "vote.loc[vote.Party == 'REP', 'DIMEChange'] *=  -1\n",
    "vote[['Party','DIME1','DIME2','DIMEChange']].head(5)"
   ]
  },
  {
   "cell_type": "code",
   "execution_count": 9,
   "metadata": {
    "collapsed": false
   },
   "outputs": [
    {
     "data": {
      "text/plain": [
       "<matplotlib.axes._subplots.AxesSubplot at 0x7f7350a63d90>"
      ]
     },
     "execution_count": 9,
     "metadata": {},
     "output_type": "execute_result"
    },
    {
     "data": {
      "image/png": "[encoded data removed]",
      "text/plain": [
       "<matplotlib.figure.Figure at 0x7f732a001c90>"
      ]
     },
     "metadata": {},
     "output_type": "display_data"
    }
   ],
   "source": [
    "vote.plot.scatter('DIMEChange', 'VoteChange')"
   ]
  },
  {
   "cell_type": "markdown",
   "metadata": {},
   "source": [
    "### Figure 1\n",
    "A scatter plot showing how the vote changes from the primary to the general election based on the difference in the DIME score of the two candidates. There is a definite outlier in the top left which goes in the opposite direction from what is expected."
   ]
  },
  {
   "cell_type": "code",
   "execution_count": 10,
   "metadata": {
    "collapsed": false
   },
   "outputs": [
    {
     "data": {
      "text/html": [
       "<table class=\"simpletable\">\n",
       "<caption>OLS Regression Results</caption>\n",
       "<tr>\n",
       "  <th>Dep. Variable:</th>       <td>VoteChange</td>    <th>  R-squared:         </th> <td>   0.073</td>\n",
       "</tr>\n",
       "<tr>\n",
       "  <th>Model:</th>                   <td>OLS</td>       <th>  Adj. R-squared:    </th> <td>   0.047</td>\n",
       "</tr>\n",
       "<tr>\n",
       "  <th>Method:</th>             <td>Least Squares</td>  <th>  F-statistic:       </th> <td>   2.834</td>\n",
       "</tr>\n",
       "<tr>\n",
       "  <th>Date:</th>             <td>Thu, 06 Apr 2017</td> <th>  Prob (F-statistic):</th>  <td> 0.101</td> \n",
       "</tr>\n",
       "<tr>\n",
       "  <th>Time:</th>                 <td>19:59:55</td>     <th>  Log-Likelihood:    </th> <td>  42.000</td>\n",
       "</tr>\n",
       "<tr>\n",
       "  <th>No. Observations:</th>      <td>    38</td>      <th>  AIC:               </th> <td>  -80.00</td>\n",
       "</tr>\n",
       "<tr>\n",
       "  <th>Df Residuals:</th>          <td>    36</td>      <th>  BIC:               </th> <td>  -76.73</td>\n",
       "</tr>\n",
       "<tr>\n",
       "  <th>Df Model:</th>              <td>     1</td>      <th>                     </th>     <td> </td>   \n",
       "</tr>\n",
       "<tr>\n",
       "  <th>Covariance Type:</th>      <td>nonrobust</td>    <th>                     </th>     <td> </td>   \n",
       "</tr>\n",
       "</table>\n",
       "<table class=\"simpletable\">\n",
       "<tr>\n",
       "       <td></td>         <th>coef</th>     <th>std err</th>      <th>t</th>      <th>P>|t|</th> <th>[95.0% Conf. Int.]</th> \n",
       "</tr>\n",
       "<tr>\n",
       "  <th>const</th>      <td>   -0.0144</td> <td>    0.013</td> <td>   -1.075</td> <td> 0.290</td> <td>   -0.041     0.013</td>\n",
       "</tr>\n",
       "<tr>\n",
       "  <th>DIMEChange</th> <td>    0.0462</td> <td>    0.027</td> <td>    1.684</td> <td> 0.101</td> <td>   -0.009     0.102</td>\n",
       "</tr>\n",
       "</table>\n",
       "<table class=\"simpletable\">\n",
       "<tr>\n",
       "  <th>Omnibus:</th>       <td> 2.740</td> <th>  Durbin-Watson:     </th> <td>   1.758</td>\n",
       "</tr>\n",
       "<tr>\n",
       "  <th>Prob(Omnibus):</th> <td> 0.254</td> <th>  Jarque-Bera (JB):  </th> <td>   1.831</td>\n",
       "</tr>\n",
       "<tr>\n",
       "  <th>Skew:</th>          <td> 0.524</td> <th>  Prob(JB):          </th> <td>   0.400</td>\n",
       "</tr>\n",
       "<tr>\n",
       "  <th>Kurtosis:</th>      <td> 3.237</td> <th>  Cond. No.          </th> <td>    2.05</td>\n",
       "</tr>\n",
       "</table>"
      ],
      "text/plain": [
       "<class 'statsmodels.iolib.summary.Summary'>\n",
       "\"\"\"\n",
       "                            OLS Regression Results                            \n",
       "==============================================================================\n",
       "Dep. Variable:             VoteChange   R-squared:                       0.073\n",
       "Model:                            OLS   Adj. R-squared:                  0.047\n",
       "Method:                 Least Squares   F-statistic:                     2.834\n",
       "Date:                Thu, 06 Apr 2017   Prob (F-statistic):              0.101\n",
       "Time:                        19:59:55   Log-Likelihood:                 42.000\n",
       "No. Observations:                  38   AIC:                            -80.00\n",
       "Df Residuals:                      36   BIC:                            -76.73\n",
       "Df Model:                           1                                         \n",
       "Covariance Type:            nonrobust                                         \n",
       "==============================================================================\n",
       "                 coef    std err          t      P>|t|      [95.0% Conf. Int.]\n",
       "------------------------------------------------------------------------------\n",
       "const         -0.0144      0.013     -1.075      0.290        -0.041     0.013\n",
       "DIMEChange     0.0462      0.027      1.684      0.101        -0.009     0.102\n",
       "==============================================================================\n",
       "Omnibus:                        2.740   Durbin-Watson:                   1.758\n",
       "Prob(Omnibus):                  0.254   Jarque-Bera (JB):                1.831\n",
       "Skew:                           0.524   Prob(JB):                        0.400\n",
       "Kurtosis:                       3.237   Cond. No.                         2.05\n",
       "==============================================================================\n",
       "\n",
       "Warnings:\n",
       "[1] Standard Errors assume that the covariance matrix of the errors is correctly specified.\n",
       "\"\"\""
      ]
     },
     "execution_count": 10,
     "metadata": {},
     "output_type": "execute_result"
    }
   ],
   "source": [
    "import statsmodels.api as sm\n",
    "model = sm.OLS(vote.VoteChange, sm.add_constant(vote.DIMEChange)).fit()\n",
    "model.summary()"
   ]
  },
  {
   "cell_type": "markdown",
   "metadata": {
    "collapsed": false
   },
   "source": [
    "The results are not quite significant, but take a look at the outlier."
   ]
  },
  {
   "cell_type": "code",
   "execution_count": 11,
   "metadata": {
    "collapsed": false
   },
   "outputs": [
    {
     "data": {
      "text/html": [
       "<div>\n",
       "<table border=\"1\" class=\"dataframe\">\n",
       "  <thead>\n",
       "    <tr style=\"text-align: right;\">\n",
       "      <th></th>\n",
       "      <th>Year</th>\n",
       "      <th>Office</th>\n",
       "      <th>District</th>\n",
       "      <th>Party</th>\n",
       "      <th>Cand1</th>\n",
       "      <th>Cand2</th>\n",
       "      <th>General1</th>\n",
       "      <th>General2</th>\n",
       "      <th>Primary1</th>\n",
       "      <th>Primary2</th>\n",
       "      <th>DIME1</th>\n",
       "      <th>DIME2</th>\n",
       "      <th>GenShare</th>\n",
       "      <th>PriShare</th>\n",
       "      <th>VoteChange</th>\n",
       "      <th>DIMEChange</th>\n",
       "    </tr>\n",
       "  </thead>\n",
       "  <tbody>\n",
       "    <tr>\n",
       "      <th>33</th>\n",
       "      <td>2014</td>\n",
       "      <td>Reps</td>\n",
       "      <td>35</td>\n",
       "      <td>DEM</td>\n",
       "      <td>Christina Gagnier</td>\n",
       "      <td>Norma J Torres</td>\n",
       "      <td>22753</td>\n",
       "      <td>39502</td>\n",
       "      <td>4081</td>\n",
       "      <td>17996</td>\n",
       "      <td>-1.61</td>\n",
       "      <td>-0.72</td>\n",
       "      <td>0.365481</td>\n",
       "      <td>0.184853</td>\n",
       "      <td>0.180628</td>\n",
       "      <td>-0.89</td>\n",
       "    </tr>\n",
       "  </tbody>\n",
       "</table>\n",
       "</div>"
      ],
      "text/plain": [
       "    Year Office  District Party              Cand1           Cand2  General1  \\\n",
       "33  2014   Reps        35   DEM  Christina Gagnier  Norma J Torres     22753   \n",
       "\n",
       "    General2  Primary1  Primary2  DIME1  DIME2  GenShare  PriShare  \\\n",
       "33     39502      4081     17996  -1.61  -0.72  0.365481  0.184853   \n",
       "\n",
       "    VoteChange  DIMEChange  \n",
       "33    0.180628       -0.89  "
      ]
     },
     "execution_count": 11,
     "metadata": {},
     "output_type": "execute_result"
    }
   ],
   "source": [
    "vote.loc[(vote.VoteChange > .15) & (vote.DIMEChange < .5)]"
   ]
  },
  {
   "cell_type": "markdown",
   "metadata": {},
   "source": [
    "Looking at the election for Congressional District 35 in 2014, there was no Republican on the ballot in the primary, although there was a Republican write-in. This would explain why the moderate did not improve in the general election. He could have gained nearly all of the Republican votes in the primary and the liberal Democratic votes could have consolidated around his opponent. Try the regression again without this outlier."
   ]
  },
  {
   "cell_type": "code",
   "execution_count": 13,
   "metadata": {
    "collapsed": false
   },
   "outputs": [
    {
     "data": {
      "text/html": [
       "<table class=\"simpletable\">\n",
       "<caption>OLS Regression Results</caption>\n",
       "<tr>\n",
       "  <th>Dep. Variable:</th>       <td>VoteChange</td>    <th>  R-squared:         </th> <td>   0.194</td>\n",
       "</tr>\n",
       "<tr>\n",
       "  <th>Model:</th>                   <td>OLS</td>       <th>  Adj. R-squared:    </th> <td>   0.171</td>\n",
       "</tr>\n",
       "<tr>\n",
       "  <th>Method:</th>             <td>Least Squares</td>  <th>  F-statistic:       </th> <td>   8.426</td>\n",
       "</tr>\n",
       "<tr>\n",
       "  <th>Date:</th>             <td>Thu, 06 Apr 2017</td> <th>  Prob (F-statistic):</th>  <td>0.00636</td>\n",
       "</tr>\n",
       "<tr>\n",
       "  <th>Time:</th>                 <td>20:05:13</td>     <th>  Log-Likelihood:    </th> <td>  45.941</td>\n",
       "</tr>\n",
       "<tr>\n",
       "  <th>No. Observations:</th>      <td>    37</td>      <th>  AIC:               </th> <td>  -87.88</td>\n",
       "</tr>\n",
       "<tr>\n",
       "  <th>Df Residuals:</th>          <td>    35</td>      <th>  BIC:               </th> <td>  -84.66</td>\n",
       "</tr>\n",
       "<tr>\n",
       "  <th>Df Model:</th>              <td>     1</td>      <th>                     </th>     <td> </td>   \n",
       "</tr>\n",
       "<tr>\n",
       "  <th>Covariance Type:</th>      <td>nonrobust</td>    <th>                     </th>     <td> </td>   \n",
       "</tr>\n",
       "</table>\n",
       "<table class=\"simpletable\">\n",
       "<tr>\n",
       "       <td></td>         <th>coef</th>     <th>std err</th>      <th>t</th>      <th>P>|t|</th> <th>[95.0% Conf. Int.]</th> \n",
       "</tr>\n",
       "<tr>\n",
       "  <th>const</th>      <td>   -0.0218</td> <td>    0.012</td> <td>   -1.835</td> <td> 0.075</td> <td>   -0.046     0.002</td>\n",
       "</tr>\n",
       "<tr>\n",
       "  <th>DIMEChange</th> <td>    0.0730</td> <td>    0.025</td> <td>    2.903</td> <td> 0.006</td> <td>    0.022     0.124</td>\n",
       "</tr>\n",
       "</table>\n",
       "<table class=\"simpletable\">\n",
       "<tr>\n",
       "  <th>Omnibus:</th>       <td> 1.282</td> <th>  Durbin-Watson:     </th> <td>   1.672</td>\n",
       "</tr>\n",
       "<tr>\n",
       "  <th>Prob(Omnibus):</th> <td> 0.527</td> <th>  Jarque-Bera (JB):  </th> <td>   0.954</td>\n",
       "</tr>\n",
       "<tr>\n",
       "  <th>Skew:</th>          <td> 0.030</td> <th>  Prob(JB):          </th> <td>   0.621</td>\n",
       "</tr>\n",
       "<tr>\n",
       "  <th>Kurtosis:</th>      <td> 2.216</td> <th>  Cond. No.          </th> <td>    2.13</td>\n",
       "</tr>\n",
       "</table>"
      ],
      "text/plain": [
       "<class 'statsmodels.iolib.summary.Summary'>\n",
       "\"\"\"\n",
       "                            OLS Regression Results                            \n",
       "==============================================================================\n",
       "Dep. Variable:             VoteChange   R-squared:                       0.194\n",
       "Model:                            OLS   Adj. R-squared:                  0.171\n",
       "Method:                 Least Squares   F-statistic:                     8.426\n",
       "Date:                Thu, 06 Apr 2017   Prob (F-statistic):            0.00636\n",
       "Time:                        20:05:13   Log-Likelihood:                 45.941\n",
       "No. Observations:                  37   AIC:                            -87.88\n",
       "Df Residuals:                      35   BIC:                            -84.66\n",
       "Df Model:                           1                                         \n",
       "Covariance Type:            nonrobust                                         \n",
       "==============================================================================\n",
       "                 coef    std err          t      P>|t|      [95.0% Conf. Int.]\n",
       "------------------------------------------------------------------------------\n",
       "const         -0.0218      0.012     -1.835      0.075        -0.046     0.002\n",
       "DIMEChange     0.0730      0.025      2.903      0.006         0.022     0.124\n",
       "==============================================================================\n",
       "Omnibus:                        1.282   Durbin-Watson:                   1.672\n",
       "Prob(Omnibus):                  0.527   Jarque-Bera (JB):                0.954\n",
       "Skew:                           0.030   Prob(JB):                        0.621\n",
       "Kurtosis:                       2.216   Cond. No.                         2.13\n",
       "==============================================================================\n",
       "\n",
       "Warnings:\n",
       "[1] Standard Errors assume that the covariance matrix of the errors is correctly specified.\n",
       "\"\"\""
      ]
     },
     "execution_count": 13,
     "metadata": {},
     "output_type": "execute_result"
    }
   ],
   "source": [
    "wooutlie = vote.loc[(vote.VoteChange < .15) | (vote.DIMEChange > -.5)]\n",
    "model_nooutlie = sm.OLS(wooutlie.VoteChange, sm.add_constant(wooutlie.DIMEChange)).fit()\n",
    "model_nooutlie.summary()"
   ]
  },
  {
   "cell_type": "markdown",
   "metadata": {
    "collapsed": true
   },
   "source": [
    "Substantial improvement. Should look to see if there are other elections in which only one party was represented in the primary."
   ]
  }
 ],
 "metadata": {
  "anaconda-cloud": {},
  "kernelspec": {
   "display_name": "Python [conda root]",
   "language": "python",
   "name": "conda-root-py"
  },
  "language_info": {
   "codemirror_mode": {
    "name": "ipython",
    "version": 2
   },
   "file_extension": ".py",
   "mimetype": "text/x-python",
   "name": "python",
   "nbconvert_exporter": "python",
   "pygments_lexer": "ipython2",
   "version": "2.7.12"
  }
 },
 "nbformat": 4,
 "nbformat_minor": 1
}
