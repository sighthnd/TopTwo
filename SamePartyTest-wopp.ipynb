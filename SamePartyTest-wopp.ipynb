{
 "cells": [
  {
   "cell_type": "markdown",
   "metadata": {},
   "source": [
    "Test the effects of having two candidates of the same party in the general election\n",
    "\n",
    "How it should have the effect: When candidates of both parties are on the ballot and voters can only vote for one candidate, partisans of one party will ignore all the candidates of the opposite party. However, if all candidates from their party get eliminated in the first round, then they will generally choose the candidate from the opposite party who is most like their party, which is generally the more moderate one.\n",
    "\n",
    "This exploration examines two factors that would affect the change in vote share between the two candidates from the first round to the second. The first is the difference in ideology between the two, measured by Adam Bonica's DIME score, indicating how much reason there is for a voter from the opposite party to choose one over the other. The other is the share of voters in the first stage who voted for one of the candidates from the opposite party, indicating how many voters would be looking specifically for concessions to the other party.\n",
    "\n",
    "Null hypothesis: Both variables would have no effect on changes in performance of the two candidates relative to each other between the first and second stages of the election.\n",
    "\n",
    "Alternate hypothesis: A combination of the two variables will cause the moderate to perform better in the second stage than in the first, with 95% probability."
   ]
  },
  {
   "cell_type": "code",
   "execution_count": 1,
   "metadata": {
    "collapsed": false
   },
   "outputs": [
    {
     "name": "stdout",
     "output_type": "stream",
     "text": [
      "Populating the interactive namespace from numpy and matplotlib\n"
     ]
    }
   ],
   "source": [
    "import numpy as np\n",
    "import pandas as pd\n",
    "import matplotlib.pyplot as plt\n",
    "%pylab inline"
   ]
  },
  {
   "cell_type": "code",
   "execution_count": 2,
   "metadata": {
    "collapsed": false
   },
   "outputs": [
    {
     "data": {
      "text/html": [
       "<div>\n",
       "<table border=\"1\" class=\"dataframe\">\n",
       "  <thead>\n",
       "    <tr style=\"text-align: right;\">\n",
       "      <th></th>\n",
       "      <th>Year</th>\n",
       "      <th>OType</th>\n",
       "      <th>District</th>\n",
       "      <th>Party</th>\n",
       "      <th>Cand1</th>\n",
       "      <th>Cand2</th>\n",
       "      <th>Gen1</th>\n",
       "      <th>Gen2</th>\n",
       "      <th>Pri1</th>\n",
       "      <th>Pri2</th>\n",
       "      <th>Opp</th>\n",
       "      <th>PriTotal</th>\n",
       "      <th>PriOpp</th>\n",
       "      <th>DIME1</th>\n",
       "      <th>DIME2</th>\n",
       "    </tr>\n",
       "  </thead>\n",
       "  <tbody>\n",
       "    <tr>\n",
       "      <th>0</th>\n",
       "      <td>2012</td>\n",
       "      <td>Assembly</td>\n",
       "      <td>1</td>\n",
       "      <td>REP</td>\n",
       "      <td>Brian Dahle</td>\n",
       "      <td>Rick Bosetti</td>\n",
       "      <td>116098</td>\n",
       "      <td>60920</td>\n",
       "      <td>41384</td>\n",
       "      <td>34457</td>\n",
       "      <td>Y</td>\n",
       "      <td>120845</td>\n",
       "      <td>31120</td>\n",
       "      <td>0.297</td>\n",
       "      <td>0.572</td>\n",
       "    </tr>\n",
       "    <tr>\n",
       "      <th>1</th>\n",
       "      <td>2012</td>\n",
       "      <td>Assembly</td>\n",
       "      <td>5</td>\n",
       "      <td>REP</td>\n",
       "      <td>Frank Bigelow</td>\n",
       "      <td>Rico Oller</td>\n",
       "      <td>82293</td>\n",
       "      <td>75071</td>\n",
       "      <td>29584</td>\n",
       "      <td>34673</td>\n",
       "      <td>Y</td>\n",
       "      <td>102287</td>\n",
       "      <td>31721</td>\n",
       "      <td>0.389</td>\n",
       "      <td>0.548</td>\n",
       "    </tr>\n",
       "    <tr>\n",
       "      <th>2</th>\n",
       "      <td>2012</td>\n",
       "      <td>Assembly</td>\n",
       "      <td>10</td>\n",
       "      <td>DEM</td>\n",
       "      <td>Michael Allen</td>\n",
       "      <td>Marc Levine</td>\n",
       "      <td>91973</td>\n",
       "      <td>96421</td>\n",
       "      <td>32922</td>\n",
       "      <td>25920</td>\n",
       "      <td>Y</td>\n",
       "      <td>106351</td>\n",
       "      <td>22708</td>\n",
       "      <td>-0.992</td>\n",
       "      <td>-0.503</td>\n",
       "    </tr>\n",
       "    <tr>\n",
       "      <th>3</th>\n",
       "      <td>2012</td>\n",
       "      <td>Assembly</td>\n",
       "      <td>18</td>\n",
       "      <td>DEM</td>\n",
       "      <td>Rob Bonta</td>\n",
       "      <td>Abel Guillen</td>\n",
       "      <td>75865</td>\n",
       "      <td>74422</td>\n",
       "      <td>23007</td>\n",
       "      <td>18521</td>\n",
       "      <td>Y</td>\n",
       "      <td>62290</td>\n",
       "      <td>9082</td>\n",
       "      <td>-0.933</td>\n",
       "      <td>-1.204</td>\n",
       "    </tr>\n",
       "    <tr>\n",
       "      <th>4</th>\n",
       "      <td>2012</td>\n",
       "      <td>Assembly</td>\n",
       "      <td>19</td>\n",
       "      <td>DEM</td>\n",
       "      <td>Phil Ting</td>\n",
       "      <td>Michael Breyer</td>\n",
       "      <td>92858</td>\n",
       "      <td>66200</td>\n",
       "      <td>38432</td>\n",
       "      <td>14991</td>\n",
       "      <td>Y</td>\n",
       "      <td>68144</td>\n",
       "      <td>11646</td>\n",
       "      <td>-0.887</td>\n",
       "      <td>-0.862</td>\n",
       "    </tr>\n",
       "  </tbody>\n",
       "</table>\n",
       "</div>"
      ],
      "text/plain": [
       "   Year     OType  District Party          Cand1           Cand2    Gen1  \\\n",
       "0  2012  Assembly         1   REP    Brian Dahle    Rick Bosetti  116098   \n",
       "1  2012  Assembly         5   REP  Frank Bigelow      Rico Oller   82293   \n",
       "2  2012  Assembly        10   DEM  Michael Allen     Marc Levine   91973   \n",
       "3  2012  Assembly        18   DEM      Rob Bonta    Abel Guillen   75865   \n",
       "4  2012  Assembly        19   DEM      Phil Ting  Michael Breyer   92858   \n",
       "\n",
       "    Gen2   Pri1   Pri2 Opp  PriTotal  PriOpp  DIME1  DIME2  \n",
       "0  60920  41384  34457   Y    120845   31120  0.297  0.572  \n",
       "1  75071  29584  34673   Y    102287   31721  0.389  0.548  \n",
       "2  96421  32922  25920   Y    106351   22708 -0.992 -0.503  \n",
       "3  74422  23007  18521   Y     62290    9082 -0.933 -1.204  \n",
       "4  66200  38432  14991   Y     68144   11646 -0.887 -0.862  "
      ]
     },
     "execution_count": 2,
     "metadata": {},
     "output_type": "execute_result"
    }
   ],
   "source": [
    "vote = pd.read_csv(\"dataset.csv\", sep=';')\n",
    "vote.head(5)"
   ]
  },
  {
   "cell_type": "markdown",
   "metadata": {},
   "source": [
    "Show the minimum and maximum DIME scores for both parties"
   ]
  },
  {
   "cell_type": "code",
   "execution_count": 3,
   "metadata": {
    "collapsed": false
   },
   "outputs": [
    {
     "name": "stdout",
     "output_type": "stream",
     "text": [
      "The lowest Republican score is 0.297\n",
      "The highest Democratic score is -0.511\n",
      "The lowest Republican score is 0.088\n",
      "The highest Democratic score is -0.503\n"
     ]
    }
   ],
   "source": [
    "for cl in 'DIME1', 'DIME2':\n",
    "    print(\"The lowest Republican score is {}\".format(vote.loc[vote.Party == 'REP'][cl].min()))\n",
    "    print(\"The highest Democratic score is {}\".format(vote.loc[vote.Party == 'DEM'][cl].max()))"
   ]
  },
  {
   "cell_type": "markdown",
   "metadata": {},
   "source": [
    "Calculate share of the two-candidate vote in both elections, the change between the elections and the difference in DIME scores"
   ]
  },
  {
   "cell_type": "code",
   "execution_count": 4,
   "metadata": {
    "collapsed": false
   },
   "outputs": [
    {
     "data": {
      "text/html": [
       "<div>\n",
       "<table border=\"1\" class=\"dataframe\">\n",
       "  <thead>\n",
       "    <tr style=\"text-align: right;\">\n",
       "      <th></th>\n",
       "      <th>Year</th>\n",
       "      <th>OType</th>\n",
       "      <th>District</th>\n",
       "      <th>Party</th>\n",
       "      <th>Cand1</th>\n",
       "      <th>Cand2</th>\n",
       "      <th>Gen1</th>\n",
       "      <th>Gen2</th>\n",
       "      <th>Pri1</th>\n",
       "      <th>Pri2</th>\n",
       "      <th>...</th>\n",
       "      <th>PriTotal</th>\n",
       "      <th>PriOpp</th>\n",
       "      <th>DIME1</th>\n",
       "      <th>DIME2</th>\n",
       "      <th>GenShare</th>\n",
       "      <th>PriShare</th>\n",
       "      <th>VoteChange</th>\n",
       "      <th>DIMEChange</th>\n",
       "      <th>OppShare</th>\n",
       "      <th>OppDime</th>\n",
       "    </tr>\n",
       "  </thead>\n",
       "  <tbody>\n",
       "    <tr>\n",
       "      <th>0</th>\n",
       "      <td>2012</td>\n",
       "      <td>Assembly</td>\n",
       "      <td>1</td>\n",
       "      <td>REP</td>\n",
       "      <td>Brian Dahle</td>\n",
       "      <td>Rick Bosetti</td>\n",
       "      <td>116098</td>\n",
       "      <td>60920</td>\n",
       "      <td>41384</td>\n",
       "      <td>34457</td>\n",
       "      <td>...</td>\n",
       "      <td>120845</td>\n",
       "      <td>31120</td>\n",
       "      <td>0.297</td>\n",
       "      <td>0.572</td>\n",
       "      <td>0.655854</td>\n",
       "      <td>0.545668</td>\n",
       "      <td>0.110186</td>\n",
       "      <td>-0.275</td>\n",
       "      <td>25.751996</td>\n",
       "      <td>-7.081799</td>\n",
       "    </tr>\n",
       "    <tr>\n",
       "      <th>1</th>\n",
       "      <td>2012</td>\n",
       "      <td>Assembly</td>\n",
       "      <td>5</td>\n",
       "      <td>REP</td>\n",
       "      <td>Frank Bigelow</td>\n",
       "      <td>Rico Oller</td>\n",
       "      <td>82293</td>\n",
       "      <td>75071</td>\n",
       "      <td>29584</td>\n",
       "      <td>34673</td>\n",
       "      <td>...</td>\n",
       "      <td>102287</td>\n",
       "      <td>31721</td>\n",
       "      <td>0.389</td>\n",
       "      <td>0.548</td>\n",
       "      <td>0.522947</td>\n",
       "      <td>0.460401</td>\n",
       "      <td>0.062546</td>\n",
       "      <td>-0.159</td>\n",
       "      <td>31.011761</td>\n",
       "      <td>-4.930870</td>\n",
       "    </tr>\n",
       "    <tr>\n",
       "      <th>2</th>\n",
       "      <td>2012</td>\n",
       "      <td>Assembly</td>\n",
       "      <td>10</td>\n",
       "      <td>DEM</td>\n",
       "      <td>Michael Allen</td>\n",
       "      <td>Marc Levine</td>\n",
       "      <td>91973</td>\n",
       "      <td>96421</td>\n",
       "      <td>32922</td>\n",
       "      <td>25920</td>\n",
       "      <td>...</td>\n",
       "      <td>106351</td>\n",
       "      <td>22708</td>\n",
       "      <td>-0.992</td>\n",
       "      <td>-0.503</td>\n",
       "      <td>0.488195</td>\n",
       "      <td>0.559498</td>\n",
       "      <td>-0.071303</td>\n",
       "      <td>-0.489</td>\n",
       "      <td>21.351938</td>\n",
       "      <td>-10.441098</td>\n",
       "    </tr>\n",
       "    <tr>\n",
       "      <th>3</th>\n",
       "      <td>2012</td>\n",
       "      <td>Assembly</td>\n",
       "      <td>18</td>\n",
       "      <td>DEM</td>\n",
       "      <td>Rob Bonta</td>\n",
       "      <td>Abel Guillen</td>\n",
       "      <td>75865</td>\n",
       "      <td>74422</td>\n",
       "      <td>23007</td>\n",
       "      <td>18521</td>\n",
       "      <td>...</td>\n",
       "      <td>62290</td>\n",
       "      <td>9082</td>\n",
       "      <td>-0.933</td>\n",
       "      <td>-1.204</td>\n",
       "      <td>0.504801</td>\n",
       "      <td>0.554012</td>\n",
       "      <td>-0.049211</td>\n",
       "      <td>0.271</td>\n",
       "      <td>14.580189</td>\n",
       "      <td>3.951231</td>\n",
       "    </tr>\n",
       "    <tr>\n",
       "      <th>4</th>\n",
       "      <td>2012</td>\n",
       "      <td>Assembly</td>\n",
       "      <td>19</td>\n",
       "      <td>DEM</td>\n",
       "      <td>Phil Ting</td>\n",
       "      <td>Michael Breyer</td>\n",
       "      <td>92858</td>\n",
       "      <td>66200</td>\n",
       "      <td>38432</td>\n",
       "      <td>14991</td>\n",
       "      <td>...</td>\n",
       "      <td>68144</td>\n",
       "      <td>11646</td>\n",
       "      <td>-0.887</td>\n",
       "      <td>-0.862</td>\n",
       "      <td>0.583800</td>\n",
       "      <td>0.719391</td>\n",
       "      <td>-0.135591</td>\n",
       "      <td>-0.025</td>\n",
       "      <td>17.090279</td>\n",
       "      <td>-0.427257</td>\n",
       "    </tr>\n",
       "  </tbody>\n",
       "</table>\n",
       "<p>5 rows × 21 columns</p>\n",
       "</div>"
      ],
      "text/plain": [
       "   Year     OType  District Party          Cand1           Cand2    Gen1  \\\n",
       "0  2012  Assembly         1   REP    Brian Dahle    Rick Bosetti  116098   \n",
       "1  2012  Assembly         5   REP  Frank Bigelow      Rico Oller   82293   \n",
       "2  2012  Assembly        10   DEM  Michael Allen     Marc Levine   91973   \n",
       "3  2012  Assembly        18   DEM      Rob Bonta    Abel Guillen   75865   \n",
       "4  2012  Assembly        19   DEM      Phil Ting  Michael Breyer   92858   \n",
       "\n",
       "    Gen2   Pri1   Pri2    ...     PriTotal  PriOpp  DIME1  DIME2  GenShare  \\\n",
       "0  60920  41384  34457    ...       120845   31120  0.297  0.572  0.655854   \n",
       "1  75071  29584  34673    ...       102287   31721  0.389  0.548  0.522947   \n",
       "2  96421  32922  25920    ...       106351   22708 -0.992 -0.503  0.488195   \n",
       "3  74422  23007  18521    ...        62290    9082 -0.933 -1.204  0.504801   \n",
       "4  66200  38432  14991    ...        68144   11646 -0.887 -0.862  0.583800   \n",
       "\n",
       "   PriShare  VoteChange  DIMEChange   OppShare    OppDime  \n",
       "0  0.545668    0.110186      -0.275  25.751996  -7.081799  \n",
       "1  0.460401    0.062546      -0.159  31.011761  -4.930870  \n",
       "2  0.559498   -0.071303      -0.489  21.351938 -10.441098  \n",
       "3  0.554012   -0.049211       0.271  14.580189   3.951231  \n",
       "4  0.719391   -0.135591      -0.025  17.090279  -0.427257  \n",
       "\n",
       "[5 rows x 21 columns]"
      ]
     },
     "execution_count": 4,
     "metadata": {},
     "output_type": "execute_result"
    }
   ],
   "source": [
    "vote['GenShare'] = vote.Gen1 / (vote.Gen1 + vote.Gen2)\n",
    "vote['PriShare'] = vote.Pri1 / (vote.Pri1 + vote.Pri2)\n",
    "vote['VoteChange'] = vote.GenShare - vote.PriShare\n",
    "vote['DIMEChange'] = vote.DIME1 - vote.DIME2\n",
    "vote['OppShare'] = vote.PriOpp / vote.PriTotal * 100\n",
    "vote['OppDime'] = vote.OppShare * vote.DIMEChange\n",
    "vote.head(5)"
   ]
  },
  {
   "cell_type": "markdown",
   "metadata": {
    "collapsed": false
   },
   "source": [
    "Multiply the DIMEChange column by -1 for Republicans so that the column would reflect the same direction from the middle for both parties"
   ]
  },
  {
   "cell_type": "code",
   "execution_count": 5,
   "metadata": {
    "collapsed": false
   },
   "outputs": [
    {
     "data": {
      "text/html": [
       "<div>\n",
       "<table border=\"1\" class=\"dataframe\">\n",
       "  <thead>\n",
       "    <tr style=\"text-align: right;\">\n",
       "      <th></th>\n",
       "      <th>Party</th>\n",
       "      <th>DIME1</th>\n",
       "      <th>DIME2</th>\n",
       "      <th>DIMEChange</th>\n",
       "    </tr>\n",
       "  </thead>\n",
       "  <tbody>\n",
       "    <tr>\n",
       "      <th>0</th>\n",
       "      <td>REP</td>\n",
       "      <td>0.297</td>\n",
       "      <td>0.572</td>\n",
       "      <td>0.275</td>\n",
       "    </tr>\n",
       "    <tr>\n",
       "      <th>1</th>\n",
       "      <td>REP</td>\n",
       "      <td>0.389</td>\n",
       "      <td>0.548</td>\n",
       "      <td>0.159</td>\n",
       "    </tr>\n",
       "    <tr>\n",
       "      <th>2</th>\n",
       "      <td>DEM</td>\n",
       "      <td>-0.992</td>\n",
       "      <td>-0.503</td>\n",
       "      <td>-0.489</td>\n",
       "    </tr>\n",
       "    <tr>\n",
       "      <th>3</th>\n",
       "      <td>DEM</td>\n",
       "      <td>-0.933</td>\n",
       "      <td>-1.204</td>\n",
       "      <td>0.271</td>\n",
       "    </tr>\n",
       "    <tr>\n",
       "      <th>4</th>\n",
       "      <td>DEM</td>\n",
       "      <td>-0.887</td>\n",
       "      <td>-0.862</td>\n",
       "      <td>-0.025</td>\n",
       "    </tr>\n",
       "  </tbody>\n",
       "</table>\n",
       "</div>"
      ],
      "text/plain": [
       "  Party  DIME1  DIME2  DIMEChange\n",
       "0   REP  0.297  0.572       0.275\n",
       "1   REP  0.389  0.548       0.159\n",
       "2   DEM -0.992 -0.503      -0.489\n",
       "3   DEM -0.933 -1.204       0.271\n",
       "4   DEM -0.887 -0.862      -0.025"
      ]
     },
     "execution_count": 5,
     "metadata": {},
     "output_type": "execute_result"
    }
   ],
   "source": [
    "vote.loc[vote.Party == 'REP', 'DIMEChange'] *=  -1\n",
    "vote[['Party','DIME1','DIME2','DIMEChange']].head(5)"
   ]
  },
  {
   "cell_type": "code",
   "execution_count": 6,
   "metadata": {
    "collapsed": false
   },
   "outputs": [
    {
     "data": {
      "text/plain": [
       "<matplotlib.axes._subplots.AxesSubplot at 0x7fb142802450>"
      ]
     },
     "execution_count": 6,
     "metadata": {},
     "output_type": "execute_result"
    },
    {
     "data": {
      "image/png": "[encoded data removed]",
      "text/plain": [
       "<matplotlib.figure.Figure at 0x7fb142802350>"
      ]
     },
     "metadata": {},
     "output_type": "display_data"
    }
   ],
   "source": [
    "fig = plt.figure(figsize=(6, 6))\n",
    "ax = fig.add_subplot(111)\n",
    "vote.loc[vote.Opp == \"N\"].plot.scatter('DIMEChange', 'VoteChange', color=\"blue\", ax=ax)\n",
    "vote.loc[vote.Opp == \"Y\"].plot.scatter('DIMEChange', 'VoteChange', color=\"red\", ax=ax)"
   ]
  },
  {
   "cell_type": "markdown",
   "metadata": {},
   "source": [
    "### Figure 1\n",
    "A scatter plot showing how the vote changes from the primary to the general election based on the difference in the DIME score of the two candidates. There is a definite outlier in the top left which goes in the opposite direction from what is expected."
   ]
  },
  {
   "cell_type": "code",
   "execution_count": 7,
   "metadata": {
    "collapsed": false
   },
   "outputs": [
    {
     "data": {
      "text/html": [
       "<table class=\"simpletable\">\n",
       "<caption>OLS Regression Results</caption>\n",
       "<tr>\n",
       "  <th>Dep. Variable:</th>       <td>VoteChange</td>    <th>  R-squared:         </th> <td>   0.186</td>\n",
       "</tr>\n",
       "<tr>\n",
       "  <th>Model:</th>                   <td>OLS</td>       <th>  Adj. R-squared:    </th> <td>   0.143</td>\n",
       "</tr>\n",
       "<tr>\n",
       "  <th>Method:</th>             <td>Least Squares</td>  <th>  F-statistic:       </th> <td>   4.342</td>\n",
       "</tr>\n",
       "<tr>\n",
       "  <th>Date:</th>             <td>Thu, 15 Jun 2017</td> <th>  Prob (F-statistic):</th>  <td>0.0509</td> \n",
       "</tr>\n",
       "<tr>\n",
       "  <th>Time:</th>                 <td>05:48:28</td>     <th>  Log-Likelihood:    </th> <td>  26.598</td>\n",
       "</tr>\n",
       "<tr>\n",
       "  <th>No. Observations:</th>      <td>    21</td>      <th>  AIC:               </th> <td>  -49.20</td>\n",
       "</tr>\n",
       "<tr>\n",
       "  <th>Df Residuals:</th>          <td>    19</td>      <th>  BIC:               </th> <td>  -47.11</td>\n",
       "</tr>\n",
       "<tr>\n",
       "  <th>Df Model:</th>              <td>     1</td>      <th>                     </th>     <td> </td>   \n",
       "</tr>\n",
       "<tr>\n",
       "  <th>Covariance Type:</th>      <td>nonrobust</td>    <th>                     </th>     <td> </td>   \n",
       "</tr>\n",
       "</table>\n",
       "<table class=\"simpletable\">\n",
       "<tr>\n",
       "       <td></td>         <th>coef</th>     <th>std err</th>      <th>t</th>      <th>P>|t|</th> <th>[95.0% Conf. Int.]</th> \n",
       "</tr>\n",
       "<tr>\n",
       "  <th>const</th>      <td>   -0.0383</td> <td>    0.016</td> <td>   -2.397</td> <td> 0.027</td> <td>   -0.072    -0.005</td>\n",
       "</tr>\n",
       "<tr>\n",
       "  <th>DIMEChange</th> <td>    0.0988</td> <td>    0.047</td> <td>    2.084</td> <td> 0.051</td> <td>   -0.000     0.198</td>\n",
       "</tr>\n",
       "</table>\n",
       "<table class=\"simpletable\">\n",
       "<tr>\n",
       "  <th>Omnibus:</th>       <td> 0.300</td> <th>  Durbin-Watson:     </th> <td>   1.579</td>\n",
       "</tr>\n",
       "<tr>\n",
       "  <th>Prob(Omnibus):</th> <td> 0.861</td> <th>  Jarque-Bera (JB):  </th> <td>   0.470</td>\n",
       "</tr>\n",
       "<tr>\n",
       "  <th>Skew:</th>          <td> 0.095</td> <th>  Prob(JB):          </th> <td>   0.790</td>\n",
       "</tr>\n",
       "<tr>\n",
       "  <th>Kurtosis:</th>      <td> 2.292</td> <th>  Cond. No.          </th> <td>    3.05</td>\n",
       "</tr>\n",
       "</table>"
      ],
      "text/plain": [
       "<class 'statsmodels.iolib.summary.Summary'>\n",
       "\"\"\"\n",
       "                            OLS Regression Results                            \n",
       "==============================================================================\n",
       "Dep. Variable:             VoteChange   R-squared:                       0.186\n",
       "Model:                            OLS   Adj. R-squared:                  0.143\n",
       "Method:                 Least Squares   F-statistic:                     4.342\n",
       "Date:                Thu, 15 Jun 2017   Prob (F-statistic):             0.0509\n",
       "Time:                        05:48:28   Log-Likelihood:                 26.598\n",
       "No. Observations:                  21   AIC:                            -49.20\n",
       "Df Residuals:                      19   BIC:                            -47.11\n",
       "Df Model:                           1                                         \n",
       "Covariance Type:            nonrobust                                         \n",
       "==============================================================================\n",
       "                 coef    std err          t      P>|t|      [95.0% Conf. Int.]\n",
       "------------------------------------------------------------------------------\n",
       "const         -0.0383      0.016     -2.397      0.027        -0.072    -0.005\n",
       "DIMEChange     0.0988      0.047      2.084      0.051        -0.000     0.198\n",
       "==============================================================================\n",
       "Omnibus:                        0.300   Durbin-Watson:                   1.579\n",
       "Prob(Omnibus):                  0.861   Jarque-Bera (JB):                0.470\n",
       "Skew:                           0.095   Prob(JB):                        0.790\n",
       "Kurtosis:                       2.292   Cond. No.                         3.05\n",
       "==============================================================================\n",
       "\n",
       "Warnings:\n",
       "[1] Standard Errors assume that the covariance matrix of the errors is correctly specified.\n",
       "\"\"\""
      ]
     },
     "execution_count": 7,
     "metadata": {},
     "output_type": "execute_result"
    }
   ],
   "source": [
    "import statsmodels.api as sm\n",
    "model = sm.OLS(vote.loc[vote.Opp == \"Y\"].VoteChange, sm.add_constant(vote.loc[vote.Opp == \"Y\"].DIMEChange)).fit()\n",
    "model.summary()"
   ]
  },
  {
   "cell_type": "code",
   "execution_count": 8,
   "metadata": {
    "collapsed": false
   },
   "outputs": [
    {
     "name": "stderr",
     "output_type": "stream",
     "text": [
      "/home/scott/anaconda2/lib/python2.7/site-packages/scipy/stats/stats.py:1327: UserWarning: kurtosistest only valid for n>=20 ... continuing anyway, n=13\n",
      "  \"anyway, n=%i\" % int(n))\n"
     ]
    },
    {
     "data": {
      "text/html": [
       "<table class=\"simpletable\">\n",
       "<caption>OLS Regression Results</caption>\n",
       "<tr>\n",
       "  <th>Dep. Variable:</th>       <td>VoteChange</td>    <th>  R-squared:         </th> <td>   0.000</td>\n",
       "</tr>\n",
       "<tr>\n",
       "  <th>Model:</th>                   <td>OLS</td>       <th>  Adj. R-squared:    </th> <td>  -0.091</td>\n",
       "</tr>\n",
       "<tr>\n",
       "  <th>Method:</th>             <td>Least Squares</td>  <th>  F-statistic:       </th> <td>0.002522</td>\n",
       "</tr>\n",
       "<tr>\n",
       "  <th>Date:</th>             <td>Thu, 15 Jun 2017</td> <th>  Prob (F-statistic):</th>  <td> 0.961</td> \n",
       "</tr>\n",
       "<tr>\n",
       "  <th>Time:</th>                 <td>05:50:45</td>     <th>  Log-Likelihood:    </th> <td>  14.601</td>\n",
       "</tr>\n",
       "<tr>\n",
       "  <th>No. Observations:</th>      <td>    13</td>      <th>  AIC:               </th> <td>  -25.20</td>\n",
       "</tr>\n",
       "<tr>\n",
       "  <th>Df Residuals:</th>          <td>    11</td>      <th>  BIC:               </th> <td>  -24.07</td>\n",
       "</tr>\n",
       "<tr>\n",
       "  <th>Df Model:</th>              <td>     1</td>      <th>                     </th>     <td> </td>   \n",
       "</tr>\n",
       "<tr>\n",
       "  <th>Covariance Type:</th>      <td>nonrobust</td>    <th>                     </th>     <td> </td>   \n",
       "</tr>\n",
       "</table>\n",
       "<table class=\"simpletable\">\n",
       "<tr>\n",
       "       <td></td>         <th>coef</th>     <th>std err</th>      <th>t</th>      <th>P>|t|</th> <th>[95.0% Conf. Int.]</th> \n",
       "</tr>\n",
       "<tr>\n",
       "  <th>const</th>      <td>   -0.0057</td> <td>    0.024</td> <td>   -0.240</td> <td> 0.815</td> <td>   -0.058     0.047</td>\n",
       "</tr>\n",
       "<tr>\n",
       "  <th>DIMEChange</th> <td>    0.0021</td> <td>    0.043</td> <td>    0.050</td> <td> 0.961</td> <td>   -0.092     0.096</td>\n",
       "</tr>\n",
       "</table>\n",
       "<table class=\"simpletable\">\n",
       "<tr>\n",
       "  <th>Omnibus:</th>       <td> 2.910</td> <th>  Durbin-Watson:     </th> <td>   2.220</td>\n",
       "</tr>\n",
       "<tr>\n",
       "  <th>Prob(Omnibus):</th> <td> 0.233</td> <th>  Jarque-Bera (JB):  </th> <td>   1.259</td>\n",
       "</tr>\n",
       "<tr>\n",
       "  <th>Skew:</th>          <td> 0.756</td> <th>  Prob(JB):          </th> <td>   0.533</td>\n",
       "</tr>\n",
       "<tr>\n",
       "  <th>Kurtosis:</th>      <td> 3.195</td> <th>  Cond. No.          </th> <td>    1.81</td>\n",
       "</tr>\n",
       "</table>"
      ],
      "text/plain": [
       "<class 'statsmodels.iolib.summary.Summary'>\n",
       "\"\"\"\n",
       "                            OLS Regression Results                            \n",
       "==============================================================================\n",
       "Dep. Variable:             VoteChange   R-squared:                       0.000\n",
       "Model:                            OLS   Adj. R-squared:                 -0.091\n",
       "Method:                 Least Squares   F-statistic:                  0.002522\n",
       "Date:                Thu, 15 Jun 2017   Prob (F-statistic):              0.961\n",
       "Time:                        05:50:45   Log-Likelihood:                 14.601\n",
       "No. Observations:                  13   AIC:                            -25.20\n",
       "Df Residuals:                      11   BIC:                            -24.07\n",
       "Df Model:                           1                                         \n",
       "Covariance Type:            nonrobust                                         \n",
       "==============================================================================\n",
       "                 coef    std err          t      P>|t|      [95.0% Conf. Int.]\n",
       "------------------------------------------------------------------------------\n",
       "const         -0.0057      0.024     -0.240      0.815        -0.058     0.047\n",
       "DIMEChange     0.0021      0.043      0.050      0.961        -0.092     0.096\n",
       "==============================================================================\n",
       "Omnibus:                        2.910   Durbin-Watson:                   2.220\n",
       "Prob(Omnibus):                  0.233   Jarque-Bera (JB):                1.259\n",
       "Skew:                           0.756   Prob(JB):                        0.533\n",
       "Kurtosis:                       3.195   Cond. No.                         1.81\n",
       "==============================================================================\n",
       "\n",
       "Warnings:\n",
       "[1] Standard Errors assume that the covariance matrix of the errors is correctly specified.\n",
       "\"\"\""
      ]
     },
     "execution_count": 8,
     "metadata": {},
     "output_type": "execute_result"
    }
   ],
   "source": [
    "model = sm.OLS(vote.loc[vote.Opp == \"N\"].VoteChange, sm.add_constant(vote.loc[vote.Opp == \"N\"].DIMEChange)).fit()\n",
    "model.summary()"
   ]
  },
  {
   "cell_type": "markdown",
   "metadata": {
    "collapsed": false
   },
   "source": [
    "The results are not quite significant, but take a look at the outlier."
   ]
  },
  {
   "cell_type": "code",
   "execution_count": 11,
   "metadata": {
    "collapsed": false
   },
   "outputs": [
    {
     "data": {
      "text/html": [
       "<div>\n",
       "<table border=\"1\" class=\"dataframe\">\n",
       "  <thead>\n",
       "    <tr style=\"text-align: right;\">\n",
       "      <th></th>\n",
       "      <th>Year</th>\n",
       "      <th>Office</th>\n",
       "      <th>District</th>\n",
       "      <th>Party</th>\n",
       "      <th>Cand1</th>\n",
       "      <th>Cand2</th>\n",
       "      <th>General1</th>\n",
       "      <th>General2</th>\n",
       "      <th>Primary1</th>\n",
       "      <th>Primary2</th>\n",
       "      <th>DIME1</th>\n",
       "      <th>DIME2</th>\n",
       "      <th>GenShare</th>\n",
       "      <th>PriShare</th>\n",
       "      <th>VoteChange</th>\n",
       "      <th>DIMEChange</th>\n",
       "    </tr>\n",
       "  </thead>\n",
       "  <tbody>\n",
       "    <tr>\n",
       "      <th>33</th>\n",
       "      <td>2014</td>\n",
       "      <td>Reps</td>\n",
       "      <td>35</td>\n",
       "      <td>DEM</td>\n",
       "      <td>Christina Gagnier</td>\n",
       "      <td>Norma J Torres</td>\n",
       "      <td>22753</td>\n",
       "      <td>39502</td>\n",
       "      <td>4081</td>\n",
       "      <td>17996</td>\n",
       "      <td>-1.61</td>\n",
       "      <td>-0.72</td>\n",
       "      <td>0.365481</td>\n",
       "      <td>0.184853</td>\n",
       "      <td>0.180628</td>\n",
       "      <td>-0.89</td>\n",
       "    </tr>\n",
       "  </tbody>\n",
       "</table>\n",
       "</div>"
      ],
      "text/plain": [
       "    Year Office  District Party              Cand1           Cand2  General1  \\\n",
       "33  2014   Reps        35   DEM  Christina Gagnier  Norma J Torres     22753   \n",
       "\n",
       "    General2  Primary1  Primary2  DIME1  DIME2  GenShare  PriShare  \\\n",
       "33     39502      4081     17996  -1.61  -0.72  0.365481  0.184853   \n",
       "\n",
       "    VoteChange  DIMEChange  \n",
       "33    0.180628       -0.89  "
      ]
     },
     "execution_count": 11,
     "metadata": {},
     "output_type": "execute_result"
    }
   ],
   "source": [
    "vote.loc[(vote.VoteChange > .15) & (vote.DIMEChange < .5)]"
   ]
  },
  {
   "cell_type": "markdown",
   "metadata": {},
   "source": [
    "Looking at the election for Congressional District 35 in 2014, there was no Republican on the ballot in the primary, although there was a Republican write-in. This would explain why the moderate did not improve in the general election. He could have gained nearly all of the Republican votes in the primary and the liberal Democratic votes could have consolidated around his opponent. Try the regression again without this outlier."
   ]
  },
  {
   "cell_type": "code",
   "execution_count": 13,
   "metadata": {
    "collapsed": false
   },
   "outputs": [
    {
     "data": {
      "text/html": [
       "<table class=\"simpletable\">\n",
       "<caption>OLS Regression Results</caption>\n",
       "<tr>\n",
       "  <th>Dep. Variable:</th>       <td>VoteChange</td>    <th>  R-squared:         </th> <td>   0.194</td>\n",
       "</tr>\n",
       "<tr>\n",
       "  <th>Model:</th>                   <td>OLS</td>       <th>  Adj. R-squared:    </th> <td>   0.171</td>\n",
       "</tr>\n",
       "<tr>\n",
       "  <th>Method:</th>             <td>Least Squares</td>  <th>  F-statistic:       </th> <td>   8.426</td>\n",
       "</tr>\n",
       "<tr>\n",
       "  <th>Date:</th>             <td>Thu, 06 Apr 2017</td> <th>  Prob (F-statistic):</th>  <td>0.00636</td>\n",
       "</tr>\n",
       "<tr>\n",
       "  <th>Time:</th>                 <td>20:05:13</td>     <th>  Log-Likelihood:    </th> <td>  45.941</td>\n",
       "</tr>\n",
       "<tr>\n",
       "  <th>No. Observations:</th>      <td>    37</td>      <th>  AIC:               </th> <td>  -87.88</td>\n",
       "</tr>\n",
       "<tr>\n",
       "  <th>Df Residuals:</th>          <td>    35</td>      <th>  BIC:               </th> <td>  -84.66</td>\n",
       "</tr>\n",
       "<tr>\n",
       "  <th>Df Model:</th>              <td>     1</td>      <th>                     </th>     <td> </td>   \n",
       "</tr>\n",
       "<tr>\n",
       "  <th>Covariance Type:</th>      <td>nonrobust</td>    <th>                     </th>     <td> </td>   \n",
       "</tr>\n",
       "</table>\n",
       "<table class=\"simpletable\">\n",
       "<tr>\n",
       "       <td></td>         <th>coef</th>     <th>std err</th>      <th>t</th>      <th>P>|t|</th> <th>[95.0% Conf. Int.]</th> \n",
       "</tr>\n",
       "<tr>\n",
       "  <th>const</th>      <td>   -0.0218</td> <td>    0.012</td> <td>   -1.835</td> <td> 0.075</td> <td>   -0.046     0.002</td>\n",
       "</tr>\n",
       "<tr>\n",
       "  <th>DIMEChange</th> <td>    0.0730</td> <td>    0.025</td> <td>    2.903</td> <td> 0.006</td> <td>    0.022     0.124</td>\n",
       "</tr>\n",
       "</table>\n",
       "<table class=\"simpletable\">\n",
       "<tr>\n",
       "  <th>Omnibus:</th>       <td> 1.282</td> <th>  Durbin-Watson:     </th> <td>   1.672</td>\n",
       "</tr>\n",
       "<tr>\n",
       "  <th>Prob(Omnibus):</th> <td> 0.527</td> <th>  Jarque-Bera (JB):  </th> <td>   0.954</td>\n",
       "</tr>\n",
       "<tr>\n",
       "  <th>Skew:</th>          <td> 0.030</td> <th>  Prob(JB):          </th> <td>   0.621</td>\n",
       "</tr>\n",
       "<tr>\n",
       "  <th>Kurtosis:</th>      <td> 2.216</td> <th>  Cond. No.          </th> <td>    2.13</td>\n",
       "</tr>\n",
       "</table>"
      ],
      "text/plain": [
       "<class 'statsmodels.iolib.summary.Summary'>\n",
       "\"\"\"\n",
       "                            OLS Regression Results                            \n",
       "==============================================================================\n",
       "Dep. Variable:             VoteChange   R-squared:                       0.194\n",
       "Model:                            OLS   Adj. R-squared:                  0.171\n",
       "Method:                 Least Squares   F-statistic:                     8.426\n",
       "Date:                Thu, 06 Apr 2017   Prob (F-statistic):            0.00636\n",
       "Time:                        20:05:13   Log-Likelihood:                 45.941\n",
       "No. Observations:                  37   AIC:                            -87.88\n",
       "Df Residuals:                      35   BIC:                            -84.66\n",
       "Df Model:                           1                                         \n",
       "Covariance Type:            nonrobust                                         \n",
       "==============================================================================\n",
       "                 coef    std err          t      P>|t|      [95.0% Conf. Int.]\n",
       "------------------------------------------------------------------------------\n",
       "const         -0.0218      0.012     -1.835      0.075        -0.046     0.002\n",
       "DIMEChange     0.0730      0.025      2.903      0.006         0.022     0.124\n",
       "==============================================================================\n",
       "Omnibus:                        1.282   Durbin-Watson:                   1.672\n",
       "Prob(Omnibus):                  0.527   Jarque-Bera (JB):                0.954\n",
       "Skew:                           0.030   Prob(JB):                        0.621\n",
       "Kurtosis:                       2.216   Cond. No.                         2.13\n",
       "==============================================================================\n",
       "\n",
       "Warnings:\n",
       "[1] Standard Errors assume that the covariance matrix of the errors is correctly specified.\n",
       "\"\"\""
      ]
     },
     "execution_count": 13,
     "metadata": {},
     "output_type": "execute_result"
    }
   ],
   "source": [
    "wooutlie = vote.loc[(vote.VoteChange < .15) | (vote.DIMEChange > -.5)]\n",
    "model_nooutlie = sm.OLS(wooutlie.VoteChange, sm.add_constant(wooutlie.DIMEChange)).fit()\n",
    "model_nooutlie.summary()"
   ]
  },
  {
   "cell_type": "markdown",
   "metadata": {
    "collapsed": true
   },
   "source": [
    "Substantial improvement. Should look to see if there are other elections in which only one party was represented in the primary."
   ]
  },
  {
   "cell_type": "markdown",
   "metadata": {},
   "source": [
    "Now try to examine the effect of primary vote share going to the opposite party."
   ]
  },
  {
   "cell_type": "code",
   "execution_count": 9,
   "metadata": {
    "collapsed": false
   },
   "outputs": [
    {
     "data": {
      "text/plain": [
       "Index([u'Year', u'OType', u'District', u'Party', u'Cand1', u'Cand2', u'Gen1',\n",
       "       u'Gen2', u'Pri1', u'Pri2', u'Opp', u'PriTotal', u'PriOpp', u'DIME1',\n",
       "       u'DIME2', u'GenShare', u'PriShare', u'VoteChange', u'DIMEChange',\n",
       "       u'OppShare', u'OppDime'],\n",
       "      dtype='object')"
      ]
     },
     "execution_count": 9,
     "metadata": {},
     "output_type": "execute_result"
    }
   ],
   "source": [
    "vote.columns"
   ]
  },
  {
   "cell_type": "code",
   "execution_count": 13,
   "metadata": {
    "collapsed": false
   },
   "outputs": [
    {
     "data": {
      "text/plain": [
       "Index([u'Opp', u'PriTotal', u'PriOpp', u'DIME1', u'DIME2', u'GenShare',\n",
       "       u'PriShare', u'VoteChange', u'DIMEChange', u'OppShare', u'OppDime'],\n",
       "      dtype='object')"
      ]
     },
     "execution_count": 13,
     "metadata": {},
     "output_type": "execute_result"
    }
   ],
   "source": [
    "vote.columns[10:]"
   ]
  },
  {
   "cell_type": "code",
   "execution_count": 14,
   "metadata": {
    "collapsed": false
   },
   "outputs": [
    {
     "name": "stderr",
     "output_type": "stream",
     "text": [
      "/home/scott/anaconda2/lib/python2.7/site-packages/pandas/core/indexing.py:465: SettingWithCopyWarning: \n",
      "A value is trying to be set on a copy of a slice from a DataFrame.\n",
      "Try using .loc[row_indexer,col_indexer] = value instead\n",
      "\n",
      "See the caveats in the documentation: http://pandas.pydata.org/pandas-docs/stable/indexing.html#indexing-view-versus-copy\n",
      "  self.obj[item] = s\n"
     ]
    },
    {
     "data": {
      "text/html": [
       "<div>\n",
       "<table border=\"1\" class=\"dataframe\">\n",
       "  <thead>\n",
       "    <tr style=\"text-align: right;\">\n",
       "      <th></th>\n",
       "      <th>Opp</th>\n",
       "      <th>PriTotal</th>\n",
       "      <th>PriOpp</th>\n",
       "      <th>DIME1</th>\n",
       "      <th>DIME2</th>\n",
       "      <th>GenShare</th>\n",
       "      <th>PriShare</th>\n",
       "      <th>VoteChange</th>\n",
       "      <th>DIMEChange</th>\n",
       "      <th>OppShare</th>\n",
       "      <th>OppDime</th>\n",
       "    </tr>\n",
       "  </thead>\n",
       "  <tbody>\n",
       "    <tr>\n",
       "      <th>0</th>\n",
       "      <td>Y</td>\n",
       "      <td>120845</td>\n",
       "      <td>31120</td>\n",
       "      <td>0.297</td>\n",
       "      <td>0.572</td>\n",
       "      <td>0.655854</td>\n",
       "      <td>0.545668</td>\n",
       "      <td>0.110186</td>\n",
       "      <td>0.275</td>\n",
       "      <td>25.751996</td>\n",
       "      <td>-7.081799</td>\n",
       "    </tr>\n",
       "    <tr>\n",
       "      <th>1</th>\n",
       "      <td>Y</td>\n",
       "      <td>102287</td>\n",
       "      <td>31721</td>\n",
       "      <td>0.389</td>\n",
       "      <td>0.548</td>\n",
       "      <td>0.522947</td>\n",
       "      <td>0.460401</td>\n",
       "      <td>0.062546</td>\n",
       "      <td>0.159</td>\n",
       "      <td>31.011761</td>\n",
       "      <td>-4.930870</td>\n",
       "    </tr>\n",
       "    <tr>\n",
       "      <th>2</th>\n",
       "      <td>Y</td>\n",
       "      <td>106351</td>\n",
       "      <td>22708</td>\n",
       "      <td>-0.992</td>\n",
       "      <td>-0.503</td>\n",
       "      <td>0.488195</td>\n",
       "      <td>0.559498</td>\n",
       "      <td>0.071303</td>\n",
       "      <td>0.489</td>\n",
       "      <td>21.351938</td>\n",
       "      <td>10.441098</td>\n",
       "    </tr>\n",
       "    <tr>\n",
       "      <th>3</th>\n",
       "      <td>Y</td>\n",
       "      <td>62290</td>\n",
       "      <td>9082</td>\n",
       "      <td>-0.933</td>\n",
       "      <td>-1.204</td>\n",
       "      <td>0.504801</td>\n",
       "      <td>0.554012</td>\n",
       "      <td>0.049211</td>\n",
       "      <td>-0.271</td>\n",
       "      <td>14.580189</td>\n",
       "      <td>-3.951231</td>\n",
       "    </tr>\n",
       "    <tr>\n",
       "      <th>4</th>\n",
       "      <td>Y</td>\n",
       "      <td>68144</td>\n",
       "      <td>11646</td>\n",
       "      <td>-0.887</td>\n",
       "      <td>-0.862</td>\n",
       "      <td>0.583800</td>\n",
       "      <td>0.719391</td>\n",
       "      <td>0.135591</td>\n",
       "      <td>0.025</td>\n",
       "      <td>17.090279</td>\n",
       "      <td>0.427257</td>\n",
       "    </tr>\n",
       "  </tbody>\n",
       "</table>\n",
       "</div>"
      ],
      "text/plain": [
       "  Opp  PriTotal  PriOpp  DIME1  DIME2  GenShare  PriShare  VoteChange  \\\n",
       "0   Y    120845   31120  0.297  0.572  0.655854  0.545668    0.110186   \n",
       "1   Y    102287   31721  0.389  0.548  0.522947  0.460401    0.062546   \n",
       "2   Y    106351   22708 -0.992 -0.503  0.488195  0.559498    0.071303   \n",
       "3   Y     62290    9082 -0.933 -1.204  0.504801  0.554012    0.049211   \n",
       "4   Y     68144   11646 -0.887 -0.862  0.583800  0.719391    0.135591   \n",
       "\n",
       "   DIMEChange   OppShare    OppDime  \n",
       "0       0.275  25.751996  -7.081799  \n",
       "1       0.159  31.011761  -4.930870  \n",
       "2       0.489  21.351938  10.441098  \n",
       "3      -0.271  14.580189  -3.951231  \n",
       "4       0.025  17.090279   0.427257  "
      ]
     },
     "execution_count": 14,
     "metadata": {},
     "output_type": "execute_result"
    }
   ],
   "source": [
    "vote2 = vote[vote.columns[10:]]\n",
    "vote2.loc[vote2.VoteChange < 0, \"DIMEChange\"] *= -1\n",
    "vote2.loc[vote2.VoteChange < 0, \"OppDime\"] *= -1\n",
    "vote2.loc[vote2.VoteChange < 0, \"VoteChange\"] *= -1\n",
    "vote2.head(5)"
   ]
  },
  {
   "cell_type": "code",
   "execution_count": 20,
   "metadata": {
    "collapsed": false
   },
   "outputs": [
    {
     "data": {
      "text/html": [
       "<table class=\"simpletable\">\n",
       "<caption>OLS Regression Results</caption>\n",
       "<tr>\n",
       "  <th>Dep. Variable:</th>       <td>VoteChange</td>    <th>  R-squared:         </th> <td>   0.070</td>\n",
       "</tr>\n",
       "<tr>\n",
       "  <th>Model:</th>                   <td>OLS</td>       <th>  Adj. R-squared:    </th> <td>  -0.023</td>\n",
       "</tr>\n",
       "<tr>\n",
       "  <th>Method:</th>             <td>Least Squares</td>  <th>  F-statistic:       </th> <td>  0.7538</td>\n",
       "</tr>\n",
       "<tr>\n",
       "  <th>Date:</th>             <td>Thu, 15 Jun 2017</td> <th>  Prob (F-statistic):</th>  <td> 0.529</td> \n",
       "</tr>\n",
       "<tr>\n",
       "  <th>Time:</th>                 <td>06:43:36</td>     <th>  Log-Likelihood:    </th> <td>  39.817</td>\n",
       "</tr>\n",
       "<tr>\n",
       "  <th>No. Observations:</th>      <td>    34</td>      <th>  AIC:               </th> <td>  -71.63</td>\n",
       "</tr>\n",
       "<tr>\n",
       "  <th>Df Residuals:</th>          <td>    30</td>      <th>  BIC:               </th> <td>  -65.53</td>\n",
       "</tr>\n",
       "<tr>\n",
       "  <th>Df Model:</th>              <td>     3</td>      <th>                     </th>     <td> </td>   \n",
       "</tr>\n",
       "<tr>\n",
       "  <th>Covariance Type:</th>      <td>nonrobust</td>    <th>                     </th>     <td> </td>   \n",
       "</tr>\n",
       "</table>\n",
       "<table class=\"simpletable\">\n",
       "<tr>\n",
       "       <td></td>         <th>coef</th>     <th>std err</th>      <th>t</th>      <th>P>|t|</th> <th>[95.0% Conf. Int.]</th> \n",
       "</tr>\n",
       "<tr>\n",
       "  <th>const</th>      <td>   -0.0093</td> <td>    0.021</td> <td>   -0.450</td> <td> 0.656</td> <td>   -0.051     0.033</td>\n",
       "</tr>\n",
       "<tr>\n",
       "  <th>OppShare</th>   <td>   -0.0009</td> <td>    0.001</td> <td>   -0.929</td> <td> 0.360</td> <td>   -0.003     0.001</td>\n",
       "</tr>\n",
       "<tr>\n",
       "  <th>DIMEChange</th> <td>    0.0335</td> <td>    0.032</td> <td>    1.034</td> <td> 0.310</td> <td>   -0.033     0.100</td>\n",
       "</tr>\n",
       "<tr>\n",
       "  <th>OppDime</th>    <td>   -0.0015</td> <td>    0.002</td> <td>   -0.722</td> <td> 0.476</td> <td>   -0.006     0.003</td>\n",
       "</tr>\n",
       "</table>\n",
       "<table class=\"simpletable\">\n",
       "<tr>\n",
       "  <th>Omnibus:</th>       <td> 3.004</td> <th>  Durbin-Watson:     </th> <td>   1.419</td>\n",
       "</tr>\n",
       "<tr>\n",
       "  <th>Prob(Omnibus):</th> <td> 0.223</td> <th>  Jarque-Bera (JB):  </th> <td>   1.872</td>\n",
       "</tr>\n",
       "<tr>\n",
       "  <th>Skew:</th>          <td> 0.543</td> <th>  Prob(JB):          </th> <td>   0.392</td>\n",
       "</tr>\n",
       "<tr>\n",
       "  <th>Kurtosis:</th>      <td> 3.379</td> <th>  Cond. No.          </th> <td>    49.9</td>\n",
       "</tr>\n",
       "</table>"
      ],
      "text/plain": [
       "<class 'statsmodels.iolib.summary.Summary'>\n",
       "\"\"\"\n",
       "                            OLS Regression Results                            \n",
       "==============================================================================\n",
       "Dep. Variable:             VoteChange   R-squared:                       0.070\n",
       "Model:                            OLS   Adj. R-squared:                 -0.023\n",
       "Method:                 Least Squares   F-statistic:                    0.7538\n",
       "Date:                Thu, 15 Jun 2017   Prob (F-statistic):              0.529\n",
       "Time:                        06:43:36   Log-Likelihood:                 39.817\n",
       "No. Observations:                  34   AIC:                            -71.63\n",
       "Df Residuals:                      30   BIC:                            -65.53\n",
       "Df Model:                           3                                         \n",
       "Covariance Type:            nonrobust                                         \n",
       "==============================================================================\n",
       "                 coef    std err          t      P>|t|      [95.0% Conf. Int.]\n",
       "------------------------------------------------------------------------------\n",
       "const         -0.0093      0.021     -0.450      0.656        -0.051     0.033\n",
       "OppShare      -0.0009      0.001     -0.929      0.360        -0.003     0.001\n",
       "DIMEChange     0.0335      0.032      1.034      0.310        -0.033     0.100\n",
       "OppDime       -0.0015      0.002     -0.722      0.476        -0.006     0.003\n",
       "==============================================================================\n",
       "Omnibus:                        3.004   Durbin-Watson:                   1.419\n",
       "Prob(Omnibus):                  0.223   Jarque-Bera (JB):                1.872\n",
       "Skew:                           0.543   Prob(JB):                        0.392\n",
       "Kurtosis:                       3.379   Cond. No.                         49.9\n",
       "==============================================================================\n",
       "\n",
       "Warnings:\n",
       "[1] Standard Errors assume that the covariance matrix of the errors is correctly specified.\n",
       "\"\"\""
      ]
     },
     "execution_count": 20,
     "metadata": {},
     "output_type": "execute_result"
    }
   ],
   "source": [
    "model = sm.OLS(vote.VoteChange, sm.add_constant(vote[[\"OppShare\",\"DIMEChange\",\"OppDime\"]])).fit()\n",
    "model.summary()"
   ]
  },
  {
   "cell_type": "code",
   "execution_count": 22,
   "metadata": {
    "collapsed": false
   },
   "outputs": [],
   "source": [
    "vote.sort?"
   ]
  },
  {
   "cell_type": "code",
   "execution_count": null,
   "metadata": {
    "collapsed": true
   },
   "outputs": [],
   "source": []
  }
 ],
 "metadata": {
  "anaconda-cloud": {},
  "kernelspec": {
   "display_name": "Python [conda root]",
   "language": "python",
   "name": "conda-root-py"
  },
  "language_info": {
   "codemirror_mode": {
    "name": "ipython",
    "version": 2
   },
   "file_extension": ".py",
   "mimetype": "text/x-python",
   "name": "python",
   "nbconvert_exporter": "python",
   "pygments_lexer": "ipython2",
   "version": "2.7.12"
  }
 },
 "nbformat": 4,
 "nbformat_minor": 1
}
